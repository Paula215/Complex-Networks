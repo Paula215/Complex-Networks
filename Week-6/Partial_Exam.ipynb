{
 "cells": [
  {
   "cell_type": "markdown",
   "metadata": {},
   "source": [
    "# EXAMEN PARCIAL"
   ]
  },
  {
   "cell_type": "markdown",
   "metadata": {},
   "source": [
    "1. (7 puntos) Implementar el algoritmo Erdős–Rényi y Barabasi-Albert para generar una red libre de escala, para su implementación no es permitido utilizar librerías de redes, su implementación debe recibir los parámetros necesarios."
   ]
  },
  {
   "cell_type": "code",
   "execution_count": 1,
   "metadata": {},
   "outputs": [],
   "source": [
    "from collections import defaultdict\n",
    "import random\n",
    "\n",
    "class Graph:\n",
    "    def __init__(self):\n",
    "        self.nodes = set()\n",
    "        self.edges = defaultdict(set)\n",
    "    \n",
    "    def add_node(self, node):\n",
    "        self.nodes.add(node)\n",
    "    \n",
    "    def add_edge(self, u, v):\n",
    "        self.edges[u].add(v)\n",
    "        self.edges[v].add(u)\n",
    "    \n",
    "    def get_degree(self, node):\n",
    "        return len(self.edges[node])"
   ]
  },
  {
   "cell_type": "code",
   "execution_count": 2,
   "metadata": {},
   "outputs": [],
   "source": [
    "def erdos_renyi(n, p):\n",
    "    graph = Graph()\n",
    "    \n",
    "    # Añadir nodos\n",
    "    for i in range(n):\n",
    "        graph.add_node(i)\n",
    "    \n",
    "    # Añadir aristas\n",
    "    for i in range(n):\n",
    "        for j in range(i+1, n):\n",
    "            if random.random() < p:\n",
    "                graph.add_edge(i, j)\n",
    "    \n",
    "    return graph"
   ]
  },
  {
   "cell_type": "code",
   "execution_count": 4,
   "metadata": {},
   "outputs": [],
   "source": [
    "def barabasi_albert(n, m):\n",
    "    graph = Graph()\n",
    "    \n",
    "    # Inicializar con m nodos\n",
    "    for i in range(m):\n",
    "        graph.add_node(i)\n",
    "    \n",
    "    # Conectar los primeros m nodos entre sí\n",
    "    for i in range(m):\n",
    "        for j in range(i+1, m):\n",
    "            graph.add_edge(i, j)\n",
    "    \n",
    "    # Añadir el resto de nodos\n",
    "    for i in range(m, n):\n",
    "        graph.add_node(i)\n",
    "        \n",
    "        # Seleccionar m nodos existentes para conectar\n",
    "        existing_nodes = list(graph.nodes)\n",
    "        probabilities = [graph.get_degree(node) / sum(graph.get_degree(n) for n in existing_nodes) for node in existing_nodes]\n",
    "        \n",
    "        selected_nodes = random.choices(existing_nodes, weights=probabilities, k=m)\n",
    "        \n",
    "        for node in selected_nodes:\n",
    "            graph.add_edge(i, node)\n",
    "    \n",
    "    return graph"
   ]
  },
  {
   "cell_type": "code",
   "execution_count": 5,
   "metadata": {},
   "outputs": [
    {
     "name": "stdout",
     "output_type": "stream",
     "text": [
      "Red aleatoria (Erdős–Rényi): 100 nodos, 515 aristas\n",
      "Red libre de escala (Barabási-Albert): 100 nodos, 189 aristas\n"
     ]
    }
   ],
   "source": [
    "if __name__ == \"__main__\":\n",
    "\n",
    "    er_graph = erdos_renyi(100, 0.1)\n",
    "    print(f\"Red aleatoria (Erdős–Rényi): {len(er_graph.nodes)} nodos, {sum(len(edges) for edges in er_graph.edges.values()) // 2} aristas\")\n",
    "\n",
    "    # Generar una red libre de escala usando Barabási-Albert\n",
    "    ba_graph = barabasi_albert(100, 2)\n",
    "    print(f\"Red libre de escala (Barabási-Albert): {len(ba_graph.nodes)} nodos, {sum(len(edges) for edges in ba_graph.edges.values()) // 2} aristas\")"
   ]
  },
  {
   "cell_type": "markdown",
   "metadata": {},
   "source": [
    "2. (5 puntos) Crear redes con 500 nodos y un m=3, utilizando los algoritmos de la pregunta 1 y utilizando la librería NetworkX, comparar las métricas de longitud de camino medio y coeficiente de agrupamiento, mostrar también la gráfica de distribución de grado (Explicar los resultados)."
   ]
  },
  {
   "cell_type": "code",
   "execution_count": 15,
   "metadata": {},
   "outputs": [
    {
     "ename": "KeyboardInterrupt",
     "evalue": "",
     "output_type": "error",
     "traceback": [
      "\u001b[1;31m---------------------------------------------------------------------------\u001b[0m",
      "\u001b[1;31mKeyboardInterrupt\u001b[0m                         Traceback (most recent call last)",
      "Cell \u001b[1;32mIn[15], line 41\u001b[0m\n\u001b[0;32m     39\u001b[0m \u001b[38;5;66;03m# Generar redes con los algoritmos implementados\u001b[39;00m\n\u001b[0;32m     40\u001b[0m er_graph \u001b[38;5;241m=\u001b[39m erdos_renyi(N, P)\n\u001b[1;32m---> 41\u001b[0m ba_graph \u001b[38;5;241m=\u001b[39m \u001b[43mbarabasi_albert\u001b[49m\u001b[43m(\u001b[49m\u001b[43mN\u001b[49m\u001b[43m,\u001b[49m\u001b[43m \u001b[49m\u001b[43mM\u001b[49m\u001b[43m)\u001b[49m\n\u001b[0;32m     43\u001b[0m \u001b[38;5;66;03m# Convertir en formato NetworkX\u001b[39;00m\n\u001b[0;32m     44\u001b[0m er_nx \u001b[38;5;241m=\u001b[39m nx\u001b[38;5;241m.\u001b[39mGraph(er_graph)\n",
      "Cell \u001b[1;32mIn[14], line 29\u001b[0m, in \u001b[0;36mbarabasi_albert\u001b[1;34m(n, m)\u001b[0m\n\u001b[0;32m     26\u001b[0m targets \u001b[38;5;241m=\u001b[39m \u001b[38;5;28mset\u001b[39m()\n\u001b[0;32m     28\u001b[0m \u001b[38;5;28;01mwhile\u001b[39;00m \u001b[38;5;28mlen\u001b[39m(targets) \u001b[38;5;241m<\u001b[39m m:\n\u001b[1;32m---> 29\u001b[0m     rand_node \u001b[38;5;241m=\u001b[39m \u001b[43mrandom\u001b[49m\u001b[38;5;241m.\u001b[39mchoices(\u001b[38;5;28mlist\u001b[39m(graph\u001b[38;5;241m.\u001b[39mkeys()), \n\u001b[0;32m     30\u001b[0m                                weights\u001b[38;5;241m=\u001b[39m[\u001b[38;5;28mlen\u001b[39m(graph[node]) \u001b[38;5;28;01mfor\u001b[39;00m node \u001b[38;5;129;01min\u001b[39;00m graph])[\u001b[38;5;241m0\u001b[39m]\n\u001b[0;32m     31\u001b[0m     \u001b[38;5;28;01mif\u001b[39;00m rand_node \u001b[38;5;129;01mnot\u001b[39;00m \u001b[38;5;129;01min\u001b[39;00m targets:\n\u001b[0;32m     32\u001b[0m         targets\u001b[38;5;241m.\u001b[39madd(rand_node)\n",
      "\u001b[1;31mKeyboardInterrupt\u001b[0m: "
     ]
    }
   ],
   "source": [
    "import networkx as nx\n",
    "import matplotlib.pyplot as plt\n",
    "from collections import Counter\n",
    "\n",
    "# Función para calcular métricas\n",
    "def calcular_metricas(G):\n",
    "    try:\n",
    "        avg_shortest_path = nx.average_shortest_path_length(G)\n",
    "    except nx.NetworkXError:\n",
    "        avg_shortest_path = float('inf')\n",
    "    \n",
    "    avg_clustering = nx.average_clustering(G)\n",
    "    return avg_shortest_path, avg_clustering\n",
    "\n",
    "# Función para graficar distribución de grados\n",
    "def plot_degree_distribution(G, title):\n",
    "    degrees = [G.degree(n) for n in G.nodes()]\n",
    "    degree_count = Counter(degrees)\n",
    "    x, y = zip(*degree_count.items())\n",
    "    \n",
    "    plt.figure(figsize=(8, 6))\n",
    "    plt.scatter(x, y, alpha=0.7)\n",
    "    plt.xscale('log')\n",
    "    plt.yscale('log')\n",
    "    plt.title(f'Distribución de grado - {title}')\n",
    "    plt.xlabel('Grado (k)')\n",
    "    plt.ylabel('Número de nodos con grado k')\n",
    "    plt.savefig(f'degree_distribution_{title.lower().replace(\" \", \"_\")}.png')\n",
    "    plt.close()\n",
    "\n",
    "# Parámetros\n",
    "N = 500\n",
    "M = 3\n",
    "P = 2 * M / (N - 1)\n",
    "\n",
    "# Generar redes con los algoritmos implementados\n",
    "er_graph = erdos_renyi(N, P)\n",
    "ba_graph = barabasi_albert(N, M)\n",
    "\n",
    "# Convertir en formato NetworkX\n",
    "er_nx = nx.Graph(er_graph)\n",
    "ba_nx = nx.Graph(ba_graph)\n",
    "\n",
    "# Generar redes con NetworkX\n",
    "er_nx_lib = nx.erdos_renyi_graph(N, P)\n",
    "ba_nx_lib = nx.barabasi_albert_graph(N, M)\n",
    "\n",
    "# Calcular métricas\n",
    "metricas = {\n",
    "    \"ER (propio)\": calcular_metricas(er_nx),\n",
    "    \"BA (propio)\": calcular_metricas(ba_nx),\n",
    "    \"ER (NetworkX)\": calcular_metricas(er_nx_lib),\n",
    "    \"BA (NetworkX)\": calcular_metricas(ba_nx_lib)\n",
    "}\n",
    "\n",
    "# Imprimir resultados\n",
    "print(\"Modelo\\t\\t\\tLong. camino medio\\tCoef. agrupamiento\")\n",
    "for modelo, (apl, cc) in metricas.items():\n",
    "    print(f\"{modelo}\\t{apl:.4f}\\t\\t\\t{cc:.4f}\")\n",
    "\n",
    "# Generar gráficas de distribución de grado\n",
    "plot_degree_distribution(er_nx, \"ER (propio)\")\n",
    "plot_degree_distribution(ba_nx, \"BA (propio)\")\n",
    "plot_degree_distribution(er_nx_lib, \"ER (NetworkX)\")\n",
    "plot_degree_distribution(ba_nx_lib, \"BA (NetworkX)\")\n"
   ]
  },
  {
   "cell_type": "markdown",
   "metadata": {},
   "source": [
    "(8 puntos) Utilizando la librería Networkx analizar la red del dataset, calcular las métricas\n",
    "vistas en clase, en base al análisis verificar si la red es aleatoria, mundo pequeño y/o libre de escala (Justifique su respuesta)."
   ]
  },
  {
   "cell_type": "code",
   "execution_count": 11,
   "metadata": {},
   "outputs": [
    {
     "name": "stdout",
     "output_type": "stream",
     "text": [
      "Número de nodos: 143\n",
      "Número de aristas: 623\n",
      "Grado promedio: 8.71\n",
      "Coeficiente de clustering promedio: 0.4339\n",
      "Longitud de camino más corto promedio: 2.9670\n",
      "\n",
      "Comparación con red aleatoria equivalente:\n",
      "Coeficiente de clustering (aleatorio): 0.0535\n",
      "Longitud de camino más corto (aleatorio): 2.5921\n",
      "\n",
      "Coeficiente de asortatividad: -0.0195\n"
     ]
    }
   ],
   "source": [
    "import networkx as nx\n",
    "import matplotlib.pyplot as plt\n",
    "import numpy as np\n",
    "from collections import Counter\n",
    "\n",
    "# Cargar los datos y crear el grafo\n",
    "G = nx.Graph()\n",
    "with open('ia-enron-only.csv', 'r') as f:\n",
    "    for line in f:\n",
    "        source, target = map(int, line.strip().split(','))\n",
    "        G.add_edge(source, target)\n",
    "\n",
    "# Calcular métricas\n",
    "n = G.number_of_nodes()\n",
    "m = G.number_of_edges()\n",
    "avg_degree = 2 * m / n\n",
    "avg_clustering = nx.average_clustering(G)\n",
    "avg_shortest_path = nx.average_shortest_path_length(G)\n",
    "\n",
    "# Calcular la distribución de grado\n",
    "degree_sequence = [d for n, d in G.degree()]\n",
    "degree_counts = Counter(degree_sequence)\n",
    "x = list(degree_counts.keys())\n",
    "y = list(degree_counts.values())\n",
    "\n",
    "# Imprimir resultados\n",
    "print(f\"Número de nodos: {n}\")\n",
    "print(f\"Número de aristas: {m}\")\n",
    "print(f\"Grado promedio: {avg_degree:.2f}\")\n",
    "print(f\"Coeficiente de clustering promedio: {avg_clustering:.4f}\")\n",
    "print(f\"Longitud de camino más corto promedio: {avg_shortest_path:.4f}\")\n",
    "\n",
    "# Graficar la distribución de grado\n",
    "plt.figure(figsize=(10, 6))\n",
    "plt.scatter(x, y)\n",
    "plt.xscale('log')\n",
    "plt.yscale('log')\n",
    "plt.xlabel('Grado (k)')\n",
    "plt.ylabel('Número de nodos con grado k')\n",
    "plt.title('Distribución de grado (escala log-log)')\n",
    "plt.savefig('enron_degree_distribution.png')\n",
    "plt.close()\n",
    "\n",
    "# Comparar con una red aleatoria equivalente\n",
    "G_random = nx.erdos_renyi_graph(n, p=(2*m)/(n*(n-1)))\n",
    "random_avg_clustering = nx.average_clustering(G_random)\n",
    "random_avg_shortest_path = nx.average_shortest_path_length(G_random)\n",
    "\n",
    "print(\"\\nComparación con red aleatoria equivalente:\")\n",
    "print(f\"Coeficiente de clustering (aleatorio): {random_avg_clustering:.4f}\")\n",
    "print(f\"Longitud de camino más corto (aleatorio): {random_avg_shortest_path:.4f}\")\n",
    "\n",
    "# Calcular el coeficiente de asortatividad\n",
    "assortativity = nx.degree_assortativity_coefficient(G)\n",
    "print(f\"\\nCoeficiente de asortatividad: {assortativity:.4f}\")"
   ]
  }
 ],
 "metadata": {
  "kernelspec": {
   "display_name": "spacy",
   "language": "python",
   "name": "python3"
  },
  "language_info": {
   "codemirror_mode": {
    "name": "ipython",
    "version": 3
   },
   "file_extension": ".py",
   "mimetype": "text/x-python",
   "name": "python",
   "nbconvert_exporter": "python",
   "pygments_lexer": "ipython3",
   "version": "3.8.15"
  }
 },
 "nbformat": 4,
 "nbformat_minor": 2
}
