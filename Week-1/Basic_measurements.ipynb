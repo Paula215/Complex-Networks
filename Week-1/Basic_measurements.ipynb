{
  "cells": [
    {
      "cell_type": "markdown",
      "metadata": {
        "id": "K0r8jnFRMay9"
      },
      "source": [
        "<span>\n",
        "<b>Python version:</b>  >=3.7<br/>\n",
        "<b>Networkx version:</b>  >=2.3<br/>\n",
        "<b>Last update:</b> 15/02/2021\n",
        "</span>\n",
        "\n",
        "<a id='top'></a>\n",
        "# *Chapter 2: Basic Measures*\n",
        "\n",
        "``Networkx`` es una biblioteca de Python diseñada para brindar soporte para el análisis de redes complejas.\n",
        "\n",
        "En este cuaderno se presentan algunas de las características principales de la biblioteca y una descripción general de sus funcionalidades.\n",
        "\n",
        "**Nota:** este cuaderno no es 100 % exhaustivo, solo analiza los aspectos básicos que necesita para comenzar. <br/> Hay disponible una documentación completa (y un tutorial) en el proyecto [website](https://networkx.github.io/documentation/latest/)"
      ]
    },
    {
      "cell_type": "markdown",
      "metadata": {
        "id": "RrttzHddMay_"
      },
      "source": [
        "## Installation\n",
        "To install ``networkx`` use the following command:\n",
        "\n",
        "    pip install networkx"
      ]
    },
    {
      "cell_type": "code",
      "execution_count": 1,
      "metadata": {
        "colab": {
          "base_uri": "https://localhost:8080/"
        },
        "id": "YVUzD-vSMwcJ",
        "outputId": "ba709b84-b1a5-4b3f-fe80-e81b44ef17c5"
      },
      "outputs": [
        {
          "name": "stdout",
          "output_type": "stream",
          "text": [
            "Collecting network\n",
            "  Downloading network-0.1.tar.gz (2.8 kB)\n",
            "  Preparing metadata (setup.py): started\n",
            "  Preparing metadata (setup.py): finished with status 'done'\n",
            "Building wheels for collected packages: network\n",
            "  Building wheel for network (setup.py): started\n",
            "  Building wheel for network (setup.py): finished with status 'done'\n",
            "  Created wheel for network: filename=network-0.1-py3-none-any.whl size=3143 sha256=35680597f3a386f70117fbc6abf139789044ec1c0ebdc19b39ae8425ef82fbf7\n",
            "  Stored in directory: c:\\users\\msi\\appdata\\local\\pip\\cache\\wheels\\59\\17\\3f\\c2ad13bea3a1c250f52688f75437681a71e08c47622b82facb\n",
            "Successfully built network\n",
            "Installing collected packages: network\n",
            "Successfully installed network-0.1\n"
          ]
        }
      ],
      "source": [
        "!pip install network"
      ]
    },
    {
      "cell_type": "code",
      "execution_count": 4,
      "metadata": {},
      "outputs": [
        {
          "name": "stdout",
          "output_type": "stream",
          "text": [
            "Collecting powerlaw\n",
            "  Downloading powerlaw-1.5-py3-none-any.whl.metadata (9.3 kB)\n",
            "Requirement already satisfied: scipy in c:\\users\\msi\\anaconda3\\envs\\spacy\\lib\\site-packages (from powerlaw) (1.10.1)\n",
            "Requirement already satisfied: numpy in c:\\users\\msi\\anaconda3\\envs\\spacy\\lib\\site-packages (from powerlaw) (1.24.3)\n",
            "Requirement already satisfied: matplotlib in c:\\users\\msi\\anaconda3\\envs\\spacy\\lib\\site-packages (from powerlaw) (3.7.2)\n",
            "Requirement already satisfied: mpmath in c:\\users\\msi\\anaconda3\\envs\\spacy\\lib\\site-packages (from powerlaw) (1.3.0)\n",
            "Requirement already satisfied: contourpy>=1.0.1 in c:\\users\\msi\\anaconda3\\envs\\spacy\\lib\\site-packages (from matplotlib->powerlaw) (1.0.5)\n",
            "Requirement already satisfied: cycler>=0.10 in c:\\users\\msi\\anaconda3\\envs\\spacy\\lib\\site-packages (from matplotlib->powerlaw) (0.11.0)\n",
            "Requirement already satisfied: fonttools>=4.22.0 in c:\\users\\msi\\anaconda3\\envs\\spacy\\lib\\site-packages (from matplotlib->powerlaw) (4.51.0)\n",
            "Requirement already satisfied: kiwisolver>=1.0.1 in c:\\users\\msi\\anaconda3\\envs\\spacy\\lib\\site-packages (from matplotlib->powerlaw) (1.4.4)\n",
            "Requirement already satisfied: packaging>=20.0 in c:\\users\\msi\\anaconda3\\envs\\spacy\\lib\\site-packages (from matplotlib->powerlaw) (24.1)\n",
            "Requirement already satisfied: pillow>=6.2.0 in c:\\users\\msi\\anaconda3\\envs\\spacy\\lib\\site-packages (from matplotlib->powerlaw) (10.3.0)\n",
            "Requirement already satisfied: pyparsing<3.1,>=2.3.1 in c:\\users\\msi\\anaconda3\\envs\\spacy\\lib\\site-packages (from matplotlib->powerlaw) (3.0.9)\n",
            "Requirement already satisfied: python-dateutil>=2.7 in c:\\users\\msi\\anaconda3\\envs\\spacy\\lib\\site-packages (from matplotlib->powerlaw) (2.9.0.post0)\n",
            "Requirement already satisfied: importlib-resources>=3.2.0 in c:\\users\\msi\\anaconda3\\envs\\spacy\\lib\\site-packages (from matplotlib->powerlaw) (6.1.1)\n",
            "Requirement already satisfied: zipp>=3.1.0 in c:\\users\\msi\\anaconda3\\envs\\spacy\\lib\\site-packages (from importlib-resources>=3.2.0->matplotlib->powerlaw) (3.19.2)\n",
            "Requirement already satisfied: six>=1.5 in c:\\users\\msi\\anaconda3\\envs\\spacy\\lib\\site-packages (from python-dateutil>=2.7->matplotlib->powerlaw) (1.16.0)\n",
            "Downloading powerlaw-1.5-py3-none-any.whl (24 kB)\n",
            "Installing collected packages: powerlaw\n",
            "Successfully installed powerlaw-1.5\n"
          ]
        }
      ],
      "source": [
        "!pip install powerlaw"
      ]
    },
    {
      "cell_type": "markdown",
      "metadata": {
        "id": "mhPmBJZhMazA"
      },
      "source": [
        "## Importando las librerias\n",
        "Como primer paso, simplemente importe la biblioteca ``networkx``."
      ]
    },
    {
      "cell_type": "code",
      "execution_count": 5,
      "metadata": {
        "id": "mKaKy6XjMazA"
      },
      "outputs": [],
      "source": [
        "import networkx as nx\n",
        "import warnings\n",
        "import pandas as pd\n",
        "import numpy as np\n",
        "import matplotlib.pyplot as plt\n",
        "import powerlaw\n",
        "warnings.filterwarnings('ignore')"
      ]
    },
    {
      "cell_type": "markdown",
      "metadata": {
        "id": "BiAq3cZiMazB"
      },
      "source": [
        "En nuestro ejemplo no sólo analizaremos gráficos sino que también los visualizaremos: por este motivo debemos importar también ``matplotlib``."
      ]
    },
    {
      "cell_type": "code",
      "execution_count": 3,
      "metadata": {
        "id": "zLu6Vg8CMazB"
      },
      "outputs": [],
      "source": [
        "%matplotlib inline"
      ]
    },
    {
      "cell_type": "markdown",
      "metadata": {
        "id": "Y971StZCMazB"
      },
      "source": [
        "## Diseñar nuestro primer grafo\n",
        "\n",
        "``networkx`` proporciona soporte para varios modelos de grafos.\n",
        "\n",
        "Entre ellos\n",
        "- grafos no dirigidos, disponibles a través de la clase ``Graph``.\n",
        "- grafos dirigidos, disponibles a través de la clase ``DiGraph``.\n",
        "\n",
        "En este breve tutorial nos centraremos únicamente en los grafos no dirigidos."
      ]
    },
    {
      "cell_type": "markdown",
      "metadata": {
        "id": "ya_jT6BgMazC"
      },
      "source": [
        "Podemos construir un grafo añadiendo nodos y aristas de la siguiente manera:"
      ]
    },
    {
      "cell_type": "code",
      "execution_count": 10,
      "metadata": {
        "colab": {
          "base_uri": "https://localhost:8080/",
          "height": 516
        },
        "id": "b1_tWcQNMazC",
        "outputId": "c0a23034-2b92-4873-afd3-bb076cdff969"
      },
      "outputs": [
        {
          "data": {
            "image/png": "[encoded data removed]",
            "text/plain": [
              "<Figure size 640x480 with 1 Axes>"
            ]
          },
          "metadata": {},
          "output_type": "display_data"
        }
      ],
      "source": [
        "g = nx.Graph()\n",
        "\n",
        "g.add_node(\"a\")\n",
        "g.add_edge(\"a\", \"b\")\n",
        "g.add_edge(\"a\", \"c\")\n",
        "g.add_edge(\"b\", \"c\")\n",
        "\n",
        "nx.draw(g ,with_labels=True)"
      ]
    },
    {
      "cell_type": "markdown",
      "metadata": {
        "id": "dBuSh1QtMazD"
      },
      "source": [
        "Los nodos y las aristas también se pueden eliminar fácilmente"
      ]
    },
    {
      "cell_type": "code",
      "execution_count": 11,
      "metadata": {
        "colab": {
          "base_uri": "https://localhost:8080/",
          "height": 516
        },
        "id": "MiARhpUcMazD",
        "outputId": "4a31e9e7-a182-4749-fad3-255126632f41"
      },
      "outputs": [
        {
          "data": {
            "image/png": "[encoded data removed]",
            "text/plain": [
              "<Figure size 640x480 with 1 Axes>"
            ]
          },
          "metadata": {},
          "output_type": "display_data"
        }
      ],
      "source": [
        "g.remove_node(\"a\")\n",
        "g.remove_edge(\"b\", \"c\")\n",
        "\n",
        "#re-draw the graph\n",
        "nx.draw(g, with_labels=True)"
      ]
    },
    {
      "cell_type": "markdown",
      "metadata": {
        "id": "Ws0q88zqMazD"
      },
      "source": [
        "## Lectura de un grafo desde un fichero\n",
        "\n",
        "> Añadir blockquote\n",
        "\n",
        "\n",
        "``networkx`` soporta de forma nativa varios formatos de ficheros de grafos.\n",
        "\n",
        "Entre ellos uno de los más usados en repositorios online es el *edgelist*."
      ]
    },
    {
      "cell_type": "markdown",
      "metadata": {
        "id": "7g4F9Qq3MazD"
      },
      "source": [
        "Una lista de aristas es un archivo de texto (generalmente guardado como .csv) en el que cada línea identifica una arista. <br/>\n",
        "Por ejemplo, el triángulo definido anteriormente se puede describir como:\n",
        "\n",
        "a,b\n",
        "b,c\n",
        "c,a"
      ]
    },
    {
      "cell_type": "markdown",
      "metadata": {
        "id": "qxYrd4BdMazD"
      },
      "source": [
        "Para leer el archivo edgelist basta con escribir"
      ]
    },
    {
      "cell_type": "code",
      "execution_count": 13,
      "metadata": {
        "id": "cn2wtpgLMazE"
      },
      "outputs": [],
      "source": [
        "g = nx.read_edgelist(\"network.csv\", delimiter=\",\", nodetype=int)"
      ]
    },
    {
      "cell_type": "markdown",
      "metadata": {
        "id": "NV6Eg5uiMazE"
      },
      "source": [
        "De forma similar, se puede escribir un gráfico en un archivo utilizando ``nx.write_edgelist(g, filename)``.\n",
        "\n",
        "Para todos los métodos de E/S consulte la [documentación oficial](https://networkx.github.io/documentation/latest/reference/readwrite/index.html)"
      ]
    },
    {
      "cell_type": "markdown",
      "metadata": {
        "id": "lb9SEinQMazE"
      },
      "source": [
        "## Acceso a nodos y aristas\n",
        "Dado un objeto ``Graph`` ¿es posible iterar sobre sus nodos con un simple bucle ``for``?"
      ]
    },
    {
      "cell_type": "code",
      "execution_count": 14,
      "metadata": {
        "id": "Euz0U0loMazE"
      },
      "outputs": [],
      "source": [
        "for n in g.nodes():\n",
        "    # do something\n",
        "    pass"
      ]
    },
    {
      "cell_type": "markdown",
      "metadata": {
        "id": "bwVb-_yMMazE"
      },
      "source": [
        "Siguiendo un razonamiento similar, ¿es también posible hacer un bucle sobre el conjunto de aristas"
      ]
    },
    {
      "cell_type": "code",
      "execution_count": 15,
      "metadata": {
        "id": "djf5T_oUMazE"
      },
      "outputs": [],
      "source": [
        "for e in g.edges():\n",
        "    # do something\n",
        "    pass"
      ]
    },
    {
      "cell_type": "markdown",
      "metadata": {
        "id": "hRm4H_ZHMazE"
      },
      "source": [
        "Todas las entidades del grafo pueden utilizarse para almacenar atributos adicionales (pesos, etiquetas...).\n",
        "\n",
        "Para más detalles, consulte la [documentación oficial](https://networkx.github.io/documentation/latest/tutorial.html#adding-attributes-to-graphs-nodes-and-edges)"
      ]
    },
    {
      "cell_type": "markdown",
      "metadata": {
        "id": "ah7b81txMazF"
      },
      "source": [
        "## Estadísticas base de la red\n",
        "``networkx`` permite manipular tanto nodos como aristas, contarlos y extraer características globales relevantes."
      ]
    },
    {
      "cell_type": "code",
      "execution_count": 16,
      "metadata": {
        "colab": {
          "base_uri": "https://localhost:8080/"
        },
        "id": "f-u969nEMazF",
        "outputId": "21aa0537-bb22-44cd-a38e-b7e364e85f52"
      },
      "outputs": [
        {
          "data": {
            "text/plain": [
              "2566"
            ]
          },
          "execution_count": 16,
          "metadata": {},
          "output_type": "execute_result"
        }
      ],
      "source": [
        "g.number_of_nodes()"
      ]
    },
    {
      "cell_type": "code",
      "execution_count": 17,
      "metadata": {
        "colab": {
          "base_uri": "https://localhost:8080/"
        },
        "id": "ouPx6mN2MazF",
        "outputId": "4f060b28-4b0f-4ffa-cef0-7982c32119cc"
      },
      "outputs": [
        {
          "data": {
            "text/plain": [
              "8593"
            ]
          },
          "execution_count": 17,
          "metadata": {},
          "output_type": "execute_result"
        }
      ],
      "source": [
        "g.number_of_edges()"
      ]
    },
    {
      "cell_type": "code",
      "execution_count": 18,
      "metadata": {
        "colab": {
          "base_uri": "https://localhost:8080/"
        },
        "id": "XRDW8IKOMazF",
        "outputId": "cd98704c-6bd3-4da3-bf53-b001c48e73e0"
      },
      "outputs": [
        {
          "data": {
            "text/plain": [
              "False"
            ]
          },
          "execution_count": 18,
          "metadata": {},
          "output_type": "execute_result"
        }
      ],
      "source": [
        "g.is_directed()"
      ]
    },
    {
      "cell_type": "markdown",
      "metadata": {
        "id": "ttQ23SrSMazF"
      },
      "source": [
        "## Grados y distribución de grados\n",
        "El grado del nodo puede obtenerse fácilmente de la siguiente manera:"
      ]
    },
    {
      "cell_type": "code",
      "execution_count": 19,
      "metadata": {
        "colab": {
          "base_uri": "https://localhost:8080/"
        },
        "id": "APLHQCKhMazG",
        "outputId": "ac247fa9-a18a-4b2c-8aad-84288f8ce625"
      },
      "outputs": [
        {
          "data": {
            "text/plain": [
              "24"
            ]
          },
          "execution_count": 19,
          "metadata": {},
          "output_type": "execute_result"
        }
      ],
      "source": [
        "g.degree(1) # degree for node 1"
      ]
    },
    {
      "cell_type": "markdown",
      "metadata": {
        "id": "wv0Nk7UMMazG"
      },
      "source": [
        "Del mismo modo, el grado medio puede calcularse con"
      ]
    },
    {
      "cell_type": "code",
      "execution_count": 20,
      "metadata": {
        "colab": {
          "base_uri": "https://localhost:8080/"
        },
        "id": "Rkl3aObwMazG",
        "outputId": "7b479966-0ac2-4fd6-c6c9-fc899f8f569c"
      },
      "outputs": [
        {
          "data": {
            "text/plain": [
              "6.697583787996883"
            ]
          },
          "execution_count": 20,
          "metadata": {},
          "output_type": "execute_result"
        }
      ],
      "source": [
        "sum(dict(g.degree()).values())/float(len(g))"
      ]
    },
    {
      "cell_type": "markdown",
      "metadata": {
        "id": "LIwlDiVJMazG"
      },
      "source": [
        "Una forma sencilla de calcular y visualizar la distribución de grados es la siguiente"
      ]
    },
    {
      "cell_type": "code",
      "execution_count": 21,
      "metadata": {
        "colab": {
          "base_uri": "https://localhost:8080/",
          "height": 476
        },
        "id": "5M3kAdBMMazG",
        "outputId": "44a7629b-80fa-4237-a79c-119d35a59f38"
      },
      "outputs": [
        {
          "data": {
            "image/png": "[encoded data removed]",
            "text/plain": [
              "<Figure size 640x480 with 1 Axes>"
            ]
          },
          "metadata": {},
          "output_type": "display_data"
        }
      ],
      "source": [
        "hist = nx.degree_histogram(g)\n",
        "\n",
        "plt.plot(range(0, len(hist)), hist, \".\")\n",
        "plt.title(\"Degree Distribution\")\n",
        "plt.xlabel(\"Degree\")\n",
        "plt.ylabel(\"#Nodes\")\n",
        "plt.loglog()\n",
        "plt.show()"
      ]
    },
    {
      "cell_type": "markdown",
      "metadata": {
        "id": "USQ4Yx1dMazG"
      },
      "source": [
        "Una más completa en cambio es..."
      ]
    },
    {
      "cell_type": "code",
      "execution_count": 22,
      "metadata": {
        "colab": {
          "base_uri": "https://localhost:8080/",
          "height": 625
        },
        "id": "NiNwqatIMazH",
        "outputId": "ca9280a6-1053-4089-ff0a-5a9b40759d73"
      },
      "outputs": [
        {
          "name": "stdout",
          "output_type": "stream",
          "text": [
            "Calculating best minimal value for power law fit\n",
            "xmin progress: 96%\r"
          ]
        },
        {
          "data": {
            "image/png": "[encoded data removed]",
            "text/plain": [
              "<Figure size 1600x600 with 3 Axes>"
            ]
          },
          "metadata": {},
          "output_type": "display_data"
        }
      ],
      "source": [
        "import networkx as nx\n",
        "import numpy as np\n",
        "import matplotlib.pyplot as plt\n",
        "import powerlaw\n",
        "\n",
        "def plot_dist(G):\n",
        "    M = nx.to_scipy_sparse_array(G)  # Convertimos el grafo a una matriz dispersa de scipy\n",
        "    xmin = min([d[1] for d in G.degree()])\n",
        "    indegrees = M.sum(0)  # Suma de los grados de entrada\n",
        "    degree = np.bincount(indegrees.astype(int))  # Asegúrate de convertir los grados a enteros\n",
        "    fit = powerlaw.Fit(np.array(degree) + 1, fit_method='KS')\n",
        "\n",
        "    fig = plt.figure(figsize=(16, 6))\n",
        "\n",
        "    \"\"\" Plot Distribution \"\"\"\n",
        "    plt.subplot(1, 3, 1)\n",
        "    plt.plot(range(len(degree)), degree, 'b.')\n",
        "    plt.loglog()\n",
        "    plt.xlim(min(degree), max(degree))\n",
        "    plt.xlabel('Degree')\n",
        "    plt.ylabel('P(k)')\n",
        "\n",
        "    \"\"\" Plot CDF \"\"\"\n",
        "    plt.subplot(1, 3, 2)\n",
        "    fit.plot_cdf()\n",
        "    plt.xlabel('Degree')\n",
        "    plt.ylabel('CDF')\n",
        "\n",
        "    \"\"\" Plot CCDF \"\"\"\n",
        "    plt.subplot(1, 3, 3)\n",
        "    fit.plot_ccdf()\n",
        "    plt.xlabel('Degree')\n",
        "    plt.ylabel('CCDF')\n",
        "\n",
        "    plt.tight_layout()\n",
        "    plt.show()\n",
        "\n",
        "# Ahora puedes llamar a la función con tu grafo g\n",
        "plot_dist(g)\n"
      ]
    },
    {
      "cell_type": "markdown",
      "metadata": {
        "id": "Ot39VuQdMazH"
      },
      "source": [
        "## Componentes del grafo\n",
        "``networkx`` permite seleccionar vistas específicas de nodos del gráfico original"
      ]
    },
    {
      "cell_type": "code",
      "execution_count": 23,
      "metadata": {
        "colab": {
          "base_uri": "https://localhost:8080/"
        },
        "id": "zFyyG6fjMazH",
        "outputId": "2f9a9de0-4c6e-47fd-a8af-1fa00b943489"
      },
      "outputs": [
        {
          "data": {
            "text/plain": [
              "[306, 830, 1599, 273, 1988]"
            ]
          },
          "execution_count": 23,
          "metadata": {},
          "output_type": "execute_result"
        }
      ],
      "source": [
        "list(g.neighbors(0)) # obtain the list of neighobors for node 0"
      ]
    },
    {
      "cell_type": "code",
      "execution_count": 24,
      "metadata": {
        "colab": {
          "base_uri": "https://localhost:8080/",
          "height": 516
        },
        "id": "UAKdF430MazH",
        "outputId": "75dde55f-54ef-46d4-e91c-168a81b16bb5"
      },
      "outputs": [
        {
          "data": {
            "image/png": "[encoded data removed]",
            "text/plain": [
              "<Figure size 640x480 with 1 Axes>"
            ]
          },
          "metadata": {},
          "output_type": "display_data"
        }
      ],
      "source": [
        "ego = nx.ego_graph(g, 0) # ego network of the node 0\n",
        "nx.draw(ego, with_labels=True)"
      ]
    },
    {
      "cell_type": "markdown",
      "metadata": {
        "id": "yvZtU75nMazH"
      },
      "source": [
        "Siguiendo el mismo razonamiento, también pueden extraerse componentes conectados"
      ]
    },
    {
      "cell_type": "code",
      "execution_count": 25,
      "metadata": {
        "colab": {
          "base_uri": "https://localhost:8080/"
        },
        "id": "AcZ3n_vvMazI",
        "outputId": "a1a2aa23-6ace-4142-a849-3405eddf3168"
      },
      "outputs": [
        {
          "data": {
            "text/plain": [
              "85"
            ]
          },
          "execution_count": 25,
          "metadata": {},
          "output_type": "execute_result"
        }
      ],
      "source": [
        "nx.number_connected_components(g)"
      ]
    },
    {
      "cell_type": "code",
      "execution_count": 27,
      "metadata": {
        "colab": {
          "base_uri": "https://localhost:8080/",
          "height": 516
        },
        "id": "KvlvIm3vMazJ",
        "outputId": "a2d312d8-4b04-4bba-fc42-8fa1137dcd43"
      },
      "outputs": [
        {
          "data": {
            "image/png": "[encoded data removed]",
            "text/plain": [
              "<Figure size 640x480 with 1 Axes>"
            ]
          },
          "metadata": {},
          "output_type": "display_data"
        }
      ],
      "source": [
        "comps = list(nx.connected_components(g)) # get a list of connected components (for decreasing size)\n",
        "comp_1 = nx.subgraph(g, comps[1]) # build a subgraph on the second component\n",
        "nx.draw(comp_1)"
      ]
    },
    {
      "cell_type": "markdown",
      "metadata": {
        "id": "UQvvx0w4MazJ"
      },
      "source": [
        "## Caminos y diámetros\n",
        "Los caminos más cortos también pueden extraerse utilizando la siguiente sintaxis"
      ]
    },
    {
      "cell_type": "code",
      "execution_count": 28,
      "metadata": {
        "colab": {
          "base_uri": "https://localhost:8080/"
        },
        "id": "nrCu9ZnAMazJ",
        "outputId": "c8eb1a29-aca1-413b-b428-2d6f3a9abc97"
      },
      "outputs": [
        {
          "data": {
            "text/plain": [
              "[0, 306, 30]"
            ]
          },
          "execution_count": 28,
          "metadata": {},
          "output_type": "execute_result"
        }
      ],
      "source": [
        "nx.shortest_path(g, source=0, target=30)"
      ]
    },
    {
      "cell_type": "code",
      "execution_count": 29,
      "metadata": {
        "colab": {
          "base_uri": "https://localhost:8080/"
        },
        "id": "7nFSFeN3MazJ",
        "outputId": "f76a106b-9bc5-45ef-aeb6-26d262da3f32"
      },
      "outputs": [
        {
          "data": {
            "text/plain": [
              "2"
            ]
          },
          "execution_count": 29,
          "metadata": {},
          "output_type": "execute_result"
        }
      ],
      "source": [
        "nx.shortest_path_length(g, source=0, target=30)"
      ]
    },
    {
      "cell_type": "markdown",
      "metadata": {
        "id": "KXyIh9bgMazJ"
      },
      "source": [
        "Además, el diámetro de la red puede calcularse del siguiente modo"
      ]
    },
    {
      "cell_type": "code",
      "execution_count": 30,
      "metadata": {
        "colab": {
          "base_uri": "https://localhost:8080/"
        },
        "id": "3uOn30T2MazJ",
        "outputId": "6f7be88a-e2e8-4fae-8102-ec3772745736"
      },
      "outputs": [
        {
          "data": {
            "text/plain": [
              "17"
            ]
          },
          "execution_count": 30,
          "metadata": {},
          "output_type": "execute_result"
        }
      ],
      "source": [
        "nx.diameter(g.subgraph(comps[0]))"
      ]
    },
    {
      "cell_type": "markdown",
      "metadata": {
        "id": "BI7Gj2gDMazK"
      },
      "source": [
        "## Triángulos, densidad y agrupación\n",
        "Otros índices que pueden calcularse utilizando la biblioteca son"
      ]
    },
    {
      "cell_type": "code",
      "execution_count": 31,
      "metadata": {
        "colab": {
          "base_uri": "https://localhost:8080/"
        },
        "id": "e2ACaD2iMazK",
        "outputId": "de2cae5d-4ef5-4bc3-a7bc-6ae5f41501f1"
      },
      "outputs": [
        {
          "data": {
            "text/plain": [
              "0.002611143776996835"
            ]
          },
          "execution_count": 31,
          "metadata": {},
          "output_type": "execute_result"
        }
      ],
      "source": [
        "nx.density(g)"
      ]
    },
    {
      "cell_type": "code",
      "execution_count": 32,
      "metadata": {
        "colab": {
          "base_uri": "https://localhost:8080/"
        },
        "id": "fWD6yxi4MazK",
        "outputId": "045adf98-4b2d-41ff-9ebf-b88811b265a3"
      },
      "outputs": [
        {
          "data": {
            "text/plain": [
              "4"
            ]
          },
          "execution_count": 32,
          "metadata": {},
          "output_type": "execute_result"
        }
      ],
      "source": [
        "nx.triangles(g)[0]"
      ]
    },
    {
      "cell_type": "code",
      "execution_count": 33,
      "metadata": {
        "colab": {
          "base_uri": "https://localhost:8080/"
        },
        "id": "KVd3NOniMazK",
        "outputId": "ad03b024-ac12-4c5c-f58c-29d7913a5e7d"
      },
      "outputs": [
        {
          "data": {
            "text/plain": [
              "0.4"
            ]
          },
          "execution_count": 33,
          "metadata": {},
          "output_type": "execute_result"
        }
      ],
      "source": [
        "nx.clustering(g)[0]"
      ]
    },
    {
      "cell_type": "code",
      "execution_count": 34,
      "metadata": {
        "colab": {
          "base_uri": "https://localhost:8080/"
        },
        "id": "_FMtt9hUMazK",
        "outputId": "684b4e87-b580-4e88-c99b-5618ea697c36"
      },
      "outputs": [
        {
          "data": {
            "text/plain": [
              "0.20063633264589634"
            ]
          },
          "execution_count": 34,
          "metadata": {},
          "output_type": "execute_result"
        },
        {
          "ename": "",
          "evalue": "",
          "output_type": "error",
          "traceback": [
            "\u001b[1;31mThe Kernel crashed while executing code in the current cell or a previous cell. \n",
            "\u001b[1;31mPlease review the code in the cell(s) to identify a possible cause of the failure. \n",
            "\u001b[1;31mClick <a href='https://aka.ms/vscodeJupyterKernelCrash'>here</a> for more info. \n",
            "\u001b[1;31mView Jupyter <a href='command:jupyter.viewOutput'>log</a> for further details."
          ]
        }
      ],
      "source": [
        "nx.average_clustering(g)"
      ]
    }
  ],
  "metadata": {
    "colab": {
      "provenance": []
    },
    "kernelspec": {
      "display_name": "Python 3",
      "language": "python",
      "name": "python3"
    },
    "language_info": {
      "codemirror_mode": {
        "name": "ipython",
        "version": 3
      },
      "file_extension": ".py",
      "mimetype": "text/x-python",
      "name": "python",
      "nbconvert_exporter": "python",
      "pygments_lexer": "ipython3",
      "version": "3.8.15"
    }
  },
  "nbformat": 4,
  "nbformat_minor": 0
}
