{
 "cells": [
  {
   "cell_type": "markdown",
   "metadata": {},
   "source": [
    "# Random Graph"
   ]
  },
  {
   "cell_type": "markdown",
   "metadata": {},
   "source": [
    "### Definición del Modelo\n",
    "Un grafo aleatorio es un grafo de N nodos donde cada par de nodos está conectado por probabilidad p\n",
    "- 𝐺(𝑛,𝑝): \n",
    "\n",
    "    n: # nodos\n",
    "    \n",
    "    p: es la probabilidad con la que se coloca una arista entre cualquier par de nodos.\n",
    "\n",
    "- 𝐺(𝑛,m):\n",
    "\n",
    "    n: # nodos\n",
    "    \n",
    "    m: aristas seleccionadas aleatoriamente entre todos los posibles pares de nodos."
   ]
  },
  {
   "cell_type": "markdown",
   "metadata": {},
   "source": [
    "### Propiedades Matemáticas\n",
    "\n",
    "**Número Esperado de Aristas**\n",
    "\n",
    "En un grafo 𝐺(𝑛,𝑝), el número esperado de aristas \n",
    "\n",
    "𝐸[𝐸] = 𝑛(𝑛-1) . 𝑝 / 2\n",
    "\n",
    "**Distribución del Grado:**\n"
   ]
  }
 ],
 "metadata": {
  "language_info": {
   "name": "python"
  }
 },
 "nbformat": 4,
 "nbformat_minor": 2
}
